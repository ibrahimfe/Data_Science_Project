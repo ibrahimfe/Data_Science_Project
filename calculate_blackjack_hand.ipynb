{
 "cells": [
  {
   "attachments": {},
   "cell_type": "markdown",
   "metadata": {},
   "source": [
    "## Calculate the blackjack hand\n",
    "Return True if hand_1 beats hand_2, and False otherwise.\n",
    "    \n",
    "In order for hand_1 to beat hand_2 the following must be true:\n",
    "- The total of hand_1 must not exceed 21\n",
    "- The total of hand_1 must exceed the total of hand_2 OR hand_2's total must exceed 21\n",
    "    \n",
    "Hands are represented as a list of cards. Each card is represented by a string.\n",
    "    \n",
    "When adding up a hand's total, cards with numbers count for that many points. Face\n",
    "cards ('J', 'Q', and 'K') are worth 10 points. 'A' can count for 1 or 11.\n",
    "    \n",
    "When determining a hand's total, you should try to count aces in the way that \n",
    " maximizes the hand's total without going over 21. e.g. the total of ['A', 'A', '9'] is 21,\n",
    "the total of ['A', 'A', '9', '3'] is 14.\n",
    "    \n",
    "Examples:\n",
    "    >>> blackjack_hand_greater_than(['K'], ['3', '4'])\n",
    "    True\n",
    "    >>> blackjack_hand_greater_than(['K'], ['10'])\n",
    "    False\n",
    "    >>> blackjack_hand_greater_than(['K', 'K', '2'], ['3'])\n",
    "    False"
   ]
  },
  {
   "cell_type": "code",
   "execution_count": 7,
   "metadata": {},
   "outputs": [],
   "source": [
    "def blackjack_hand_greater_than(hand_1, hand_2):\n",
    "    def count_hand(hand):\n",
    "        count = 0\n",
    "        aces = 0\n",
    "        for card in hand:\n",
    "            if card == \"A\":\n",
    "                aces += 1\n",
    "            elif card in [\"J\", \"Q\", \"K\"]:\n",
    "                count += 10\n",
    "            else:\n",
    "                count += int(card)\n",
    "        for ace in range(aces):\n",
    "            if count + 11 <= 21:\n",
    "                count += 11\n",
    "            else:\n",
    "                count += 1\n",
    "        return count\n",
    "                \n",
    "    total_hand_1 = count_hand(hand_1)\n",
    "    total_hand_2 = count_hand(hand_2)\n",
    "    \n",
    "    if total_hand_1 > 21:\n",
    "        return False\n",
    "    elif total_hand_2 > 21:\n",
    "        return True\n",
    "    else:\n",
    "        return total_hand_1 > total_hand_2"
   ]
  },
  {
   "cell_type": "code",
   "execution_count": 8,
   "metadata": {},
   "outputs": [
    {
     "data": {
      "text/plain": [
       "True"
      ]
     },
     "execution_count": 8,
     "metadata": {},
     "output_type": "execute_result"
    }
   ],
   "source": [
    "hand_1 = [\"A\", \"1\", \"9\"]\n",
    "hand_2 = [\"J\", \"3\", \"7\"]\n",
    "blackjack_hand_greater_than(hand_1, hand_2)"
   ]
  },
  {
   "cell_type": "code",
   "execution_count": 9,
   "metadata": {},
   "outputs": [
    {
     "data": {
      "text/plain": [
       "False"
      ]
     },
     "execution_count": 9,
     "metadata": {},
     "output_type": "execute_result"
    }
   ],
   "source": [
    "hand_1 = [\"9\", \"K\", \"1\"]\n",
    "hand_2 = [\"8\", \"J\", \"3\"]\n",
    "blackjack_hand_greater_than(hand_1, hand_2)"
   ]
  }
 ],
 "metadata": {
  "kernelspec": {
   "display_name": "Python 3",
   "language": "python",
   "name": "python3"
  },
  "language_info": {
   "codemirror_mode": {
    "name": "ipython",
    "version": 3
   },
   "file_extension": ".py",
   "mimetype": "text/x-python",
   "name": "python",
   "nbconvert_exporter": "python",
   "pygments_lexer": "ipython3",
   "version": "3.10.6"
  },
  "orig_nbformat": 4
 },
 "nbformat": 4,
 "nbformat_minor": 2
}
